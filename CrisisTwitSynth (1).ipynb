{
  "nbformat": 4,
  "nbformat_minor": 0,
  "metadata": {
    "colab": {
      "provenance": []
    },
    "kernelspec": {
      "name": "python3",
      "display_name": "Python 3"
    },
    "language_info": {
      "name": "python"
    }
  },
  "cells": [
    {
      "cell_type": "code",
      "execution_count": null,
      "metadata": {
        "id": "v9Fjq1UT_bs6"
      },
      "outputs": [],
      "source": [
        "import pandas as pd\n",
        "import numpy as np\n",
        "data = pd.read_csv('train.csv')\n",
        "test = pd.read_csv('test.csv')\n",
        "subset_data = data.sample(n=4000, random_state=42)  # Use a specific random_state for reproducibility\n",
        "\n",
        "# Display information about the subset\n",
        "\n"
      ]
    },
    {
      "cell_type": "code",
      "source": [
        "print(subset_data.info())\n"
      ],
      "metadata": {
        "colab": {
          "base_uri": "https://localhost:8080/"
        },
        "id": "3FmoMoSy_wDD",
        "outputId": "4550d5c4-841c-43ca-837a-594ad156848b"
      },
      "execution_count": null,
      "outputs": [
        {
          "output_type": "stream",
          "name": "stdout",
          "text": [
            "<class 'pandas.core.frame.DataFrame'>\n",
            "Int64Index: 4000 entries, 2644 to 1469\n",
            "Data columns (total 5 columns):\n",
            " #   Column    Non-Null Count  Dtype \n",
            "---  ------    --------------  ----- \n",
            " 0   id        4000 non-null   int64 \n",
            " 1   keyword   3971 non-null   object\n",
            " 2   location  2648 non-null   object\n",
            " 3   text      4000 non-null   object\n",
            " 4   target    4000 non-null   int64 \n",
            "dtypes: int64(2), object(3)\n",
            "memory usage: 187.5+ KB\n",
            "None\n"
          ]
        }
      ]
    },
    {
      "cell_type": "code",
      "source": [
        "subset_data[data.keyword.notna()].sort_values(by='keyword').head()\n"
      ],
      "metadata": {
        "colab": {
          "base_uri": "https://localhost:8080/",
          "height": 241
        },
        "id": "Jm-KhvciCXnY",
        "outputId": "3cda2757-0690-4de8-8bff-05fbce1585a8"
      },
      "execution_count": null,
      "outputs": [
        {
          "output_type": "stream",
          "name": "stderr",
          "text": [
            "<ipython-input-4-c5250725d24c>:1: UserWarning: Boolean Series key will be reindexed to match DataFrame index.\n",
            "  subset_data[data.keyword.notna()].sort_values(by='keyword').head()\n"
          ]
        },
        {
          "output_type": "execute_result",
          "data": {
            "text/plain": [
              "    id keyword                       location  \\\n",
              "33  50  ablaze                         AFRICA   \n",
              "32  49  ablaze  Est. September 2012 - Bristol   \n",
              "39  57  ablaze                 Paranaque City   \n",
              "56  80  ablaze                   South Africa   \n",
              "58  82  ablaze                 hollywoodland    \n",
              "\n",
              "                                                 text  target  \n",
              "33  #AFRICANBAZE: Breaking news:Nigeria flag set a...       1  \n",
              "32  We always try to bring the heavy. #metal #RT h...       0  \n",
              "39                             Ablaze for you Lord :D       0  \n",
              "56  TRUCK ABLAZE : R21. VOORTREKKER AVE. OUTSIDE O...       1  \n",
              "58  They sky was ablaze tonight in Los Angeles. I'...       0  "
            ],
            "text/html": [
              "\n",
              "  <div id=\"df-c0482e05-04cc-4340-b83f-ae948b40ca6f\" class=\"colab-df-container\">\n",
              "    <div>\n",
              "<style scoped>\n",
              "    .dataframe tbody tr th:only-of-type {\n",
              "        vertical-align: middle;\n",
              "    }\n",
              "\n",
              "    .dataframe tbody tr th {\n",
              "        vertical-align: top;\n",
              "    }\n",
              "\n",
              "    .dataframe thead th {\n",
              "        text-align: right;\n",
              "    }\n",
              "</style>\n",
              "<table border=\"1\" class=\"dataframe\">\n",
              "  <thead>\n",
              "    <tr style=\"text-align: right;\">\n",
              "      <th></th>\n",
              "      <th>id</th>\n",
              "      <th>keyword</th>\n",
              "      <th>location</th>\n",
              "      <th>text</th>\n",
              "      <th>target</th>\n",
              "    </tr>\n",
              "  </thead>\n",
              "  <tbody>\n",
              "    <tr>\n",
              "      <th>33</th>\n",
              "      <td>50</td>\n",
              "      <td>ablaze</td>\n",
              "      <td>AFRICA</td>\n",
              "      <td>#AFRICANBAZE: Breaking news:Nigeria flag set a...</td>\n",
              "      <td>1</td>\n",
              "    </tr>\n",
              "    <tr>\n",
              "      <th>32</th>\n",
              "      <td>49</td>\n",
              "      <td>ablaze</td>\n",
              "      <td>Est. September 2012 - Bristol</td>\n",
              "      <td>We always try to bring the heavy. #metal #RT h...</td>\n",
              "      <td>0</td>\n",
              "    </tr>\n",
              "    <tr>\n",
              "      <th>39</th>\n",
              "      <td>57</td>\n",
              "      <td>ablaze</td>\n",
              "      <td>Paranaque City</td>\n",
              "      <td>Ablaze for you Lord :D</td>\n",
              "      <td>0</td>\n",
              "    </tr>\n",
              "    <tr>\n",
              "      <th>56</th>\n",
              "      <td>80</td>\n",
              "      <td>ablaze</td>\n",
              "      <td>South Africa</td>\n",
              "      <td>TRUCK ABLAZE : R21. VOORTREKKER AVE. OUTSIDE O...</td>\n",
              "      <td>1</td>\n",
              "    </tr>\n",
              "    <tr>\n",
              "      <th>58</th>\n",
              "      <td>82</td>\n",
              "      <td>ablaze</td>\n",
              "      <td>hollywoodland</td>\n",
              "      <td>They sky was ablaze tonight in Los Angeles. I'...</td>\n",
              "      <td>0</td>\n",
              "    </tr>\n",
              "  </tbody>\n",
              "</table>\n",
              "</div>\n",
              "    <div class=\"colab-df-buttons\">\n",
              "\n",
              "  <div class=\"colab-df-container\">\n",
              "    <button class=\"colab-df-convert\" onclick=\"convertToInteractive('df-c0482e05-04cc-4340-b83f-ae948b40ca6f')\"\n",
              "            title=\"Convert this dataframe to an interactive table.\"\n",
              "            style=\"display:none;\">\n",
              "\n",
              "  <svg xmlns=\"http://www.w3.org/2000/svg\" height=\"24px\" viewBox=\"0 -960 960 960\">\n",
              "    <path d=\"M120-120v-720h720v720H120Zm60-500h600v-160H180v160Zm220 220h160v-160H400v160Zm0 220h160v-160H400v160ZM180-400h160v-160H180v160Zm440 0h160v-160H620v160ZM180-180h160v-160H180v160Zm440 0h160v-160H620v160Z\"/>\n",
              "  </svg>\n",
              "    </button>\n",
              "\n",
              "  <style>\n",
              "    .colab-df-container {\n",
              "      display:flex;\n",
              "      gap: 12px;\n",
              "    }\n",
              "\n",
              "    .colab-df-convert {\n",
              "      background-color: #E8F0FE;\n",
              "      border: none;\n",
              "      border-radius: 50%;\n",
              "      cursor: pointer;\n",
              "      display: none;\n",
              "      fill: #1967D2;\n",
              "      height: 32px;\n",
              "      padding: 0 0 0 0;\n",
              "      width: 32px;\n",
              "    }\n",
              "\n",
              "    .colab-df-convert:hover {\n",
              "      background-color: #E2EBFA;\n",
              "      box-shadow: 0px 1px 2px rgba(60, 64, 67, 0.3), 0px 1px 3px 1px rgba(60, 64, 67, 0.15);\n",
              "      fill: #174EA6;\n",
              "    }\n",
              "\n",
              "    .colab-df-buttons div {\n",
              "      margin-bottom: 4px;\n",
              "    }\n",
              "\n",
              "    [theme=dark] .colab-df-convert {\n",
              "      background-color: #3B4455;\n",
              "      fill: #D2E3FC;\n",
              "    }\n",
              "\n",
              "    [theme=dark] .colab-df-convert:hover {\n",
              "      background-color: #434B5C;\n",
              "      box-shadow: 0px 1px 3px 1px rgba(0, 0, 0, 0.15);\n",
              "      filter: drop-shadow(0px 1px 2px rgba(0, 0, 0, 0.3));\n",
              "      fill: #FFFFFF;\n",
              "    }\n",
              "  </style>\n",
              "\n",
              "    <script>\n",
              "      const buttonEl =\n",
              "        document.querySelector('#df-c0482e05-04cc-4340-b83f-ae948b40ca6f button.colab-df-convert');\n",
              "      buttonEl.style.display =\n",
              "        google.colab.kernel.accessAllowed ? 'block' : 'none';\n",
              "\n",
              "      async function convertToInteractive(key) {\n",
              "        const element = document.querySelector('#df-c0482e05-04cc-4340-b83f-ae948b40ca6f');\n",
              "        const dataTable =\n",
              "          await google.colab.kernel.invokeFunction('convertToInteractive',\n",
              "                                                    [key], {});\n",
              "        if (!dataTable) return;\n",
              "\n",
              "        const docLinkHtml = 'Like what you see? Visit the ' +\n",
              "          '<a target=\"_blank\" href=https://colab.research.google.com/notebooks/data_table.ipynb>data table notebook</a>'\n",
              "          + ' to learn more about interactive tables.';\n",
              "        element.innerHTML = '';\n",
              "        dataTable['output_type'] = 'display_data';\n",
              "        await google.colab.output.renderOutput(dataTable, element);\n",
              "        const docLink = document.createElement('div');\n",
              "        docLink.innerHTML = docLinkHtml;\n",
              "        element.appendChild(docLink);\n",
              "      }\n",
              "    </script>\n",
              "  </div>\n",
              "\n",
              "\n",
              "<div id=\"df-8c0129c5-f094-4b85-8ae8-9ebe3453fc7e\">\n",
              "  <button class=\"colab-df-quickchart\" onclick=\"quickchart('df-8c0129c5-f094-4b85-8ae8-9ebe3453fc7e')\"\n",
              "            title=\"Suggest charts\"\n",
              "            style=\"display:none;\">\n",
              "\n",
              "<svg xmlns=\"http://www.w3.org/2000/svg\" height=\"24px\"viewBox=\"0 0 24 24\"\n",
              "     width=\"24px\">\n",
              "    <g>\n",
              "        <path d=\"M19 3H5c-1.1 0-2 .9-2 2v14c0 1.1.9 2 2 2h14c1.1 0 2-.9 2-2V5c0-1.1-.9-2-2-2zM9 17H7v-7h2v7zm4 0h-2V7h2v10zm4 0h-2v-4h2v4z\"/>\n",
              "    </g>\n",
              "</svg>\n",
              "  </button>\n",
              "\n",
              "<style>\n",
              "  .colab-df-quickchart {\n",
              "      --bg-color: #E8F0FE;\n",
              "      --fill-color: #1967D2;\n",
              "      --hover-bg-color: #E2EBFA;\n",
              "      --hover-fill-color: #174EA6;\n",
              "      --disabled-fill-color: #AAA;\n",
              "      --disabled-bg-color: #DDD;\n",
              "  }\n",
              "\n",
              "  [theme=dark] .colab-df-quickchart {\n",
              "      --bg-color: #3B4455;\n",
              "      --fill-color: #D2E3FC;\n",
              "      --hover-bg-color: #434B5C;\n",
              "      --hover-fill-color: #FFFFFF;\n",
              "      --disabled-bg-color: #3B4455;\n",
              "      --disabled-fill-color: #666;\n",
              "  }\n",
              "\n",
              "  .colab-df-quickchart {\n",
              "    background-color: var(--bg-color);\n",
              "    border: none;\n",
              "    border-radius: 50%;\n",
              "    cursor: pointer;\n",
              "    display: none;\n",
              "    fill: var(--fill-color);\n",
              "    height: 32px;\n",
              "    padding: 0;\n",
              "    width: 32px;\n",
              "  }\n",
              "\n",
              "  .colab-df-quickchart:hover {\n",
              "    background-color: var(--hover-bg-color);\n",
              "    box-shadow: 0 1px 2px rgba(60, 64, 67, 0.3), 0 1px 3px 1px rgba(60, 64, 67, 0.15);\n",
              "    fill: var(--button-hover-fill-color);\n",
              "  }\n",
              "\n",
              "  .colab-df-quickchart-complete:disabled,\n",
              "  .colab-df-quickchart-complete:disabled:hover {\n",
              "    background-color: var(--disabled-bg-color);\n",
              "    fill: var(--disabled-fill-color);\n",
              "    box-shadow: none;\n",
              "  }\n",
              "\n",
              "  .colab-df-spinner {\n",
              "    border: 2px solid var(--fill-color);\n",
              "    border-color: transparent;\n",
              "    border-bottom-color: var(--fill-color);\n",
              "    animation:\n",
              "      spin 1s steps(1) infinite;\n",
              "  }\n",
              "\n",
              "  @keyframes spin {\n",
              "    0% {\n",
              "      border-color: transparent;\n",
              "      border-bottom-color: var(--fill-color);\n",
              "      border-left-color: var(--fill-color);\n",
              "    }\n",
              "    20% {\n",
              "      border-color: transparent;\n",
              "      border-left-color: var(--fill-color);\n",
              "      border-top-color: var(--fill-color);\n",
              "    }\n",
              "    30% {\n",
              "      border-color: transparent;\n",
              "      border-left-color: var(--fill-color);\n",
              "      border-top-color: var(--fill-color);\n",
              "      border-right-color: var(--fill-color);\n",
              "    }\n",
              "    40% {\n",
              "      border-color: transparent;\n",
              "      border-right-color: var(--fill-color);\n",
              "      border-top-color: var(--fill-color);\n",
              "    }\n",
              "    60% {\n",
              "      border-color: transparent;\n",
              "      border-right-color: var(--fill-color);\n",
              "    }\n",
              "    80% {\n",
              "      border-color: transparent;\n",
              "      border-right-color: var(--fill-color);\n",
              "      border-bottom-color: var(--fill-color);\n",
              "    }\n",
              "    90% {\n",
              "      border-color: transparent;\n",
              "      border-bottom-color: var(--fill-color);\n",
              "    }\n",
              "  }\n",
              "</style>\n",
              "\n",
              "  <script>\n",
              "    async function quickchart(key) {\n",
              "      const quickchartButtonEl =\n",
              "        document.querySelector('#' + key + ' button');\n",
              "      quickchartButtonEl.disabled = true;  // To prevent multiple clicks.\n",
              "      quickchartButtonEl.classList.add('colab-df-spinner');\n",
              "      try {\n",
              "        const charts = await google.colab.kernel.invokeFunction(\n",
              "            'suggestCharts', [key], {});\n",
              "      } catch (error) {\n",
              "        console.error('Error during call to suggestCharts:', error);\n",
              "      }\n",
              "      quickchartButtonEl.classList.remove('colab-df-spinner');\n",
              "      quickchartButtonEl.classList.add('colab-df-quickchart-complete');\n",
              "    }\n",
              "    (() => {\n",
              "      let quickchartButtonEl =\n",
              "        document.querySelector('#df-8c0129c5-f094-4b85-8ae8-9ebe3453fc7e button');\n",
              "      quickchartButtonEl.style.display =\n",
              "        google.colab.kernel.accessAllowed ? 'block' : 'none';\n",
              "    })();\n",
              "  </script>\n",
              "</div>\n",
              "    </div>\n",
              "  </div>\n"
            ]
          },
          "metadata": {},
          "execution_count": 4
        }
      ]
    },
    {
      "cell_type": "code",
      "source": [
        "import matplotlib.pyplot as plt\n",
        "plt.pie(subset_data.target.value_counts(),\n",
        "        labels=['Not Disaster','Disaster'],\n",
        "        autopct='%1.2f%%')\n",
        "plt.show()"
      ],
      "metadata": {
        "colab": {
          "base_uri": "https://localhost:8080/",
          "height": 406
        },
        "id": "58VwZoyDDsSn",
        "outputId": "b699f0a1-af74-4d20-9374-b3f4f4822fc7"
      },
      "execution_count": null,
      "outputs": [
        {
          "output_type": "display_data",
          "data": {
            "text/plain": [
              "<Figure size 640x480 with 1 Axes>"
            ],
            "image/png": "[encoded data removed]"
          },
          "metadata": {}
        }
      ]
    },
    {
      "cell_type": "code",
      "source": [
        "import re\n",
        "\n",
        "def clean_text_data(df):\n",
        "    # Make text lowercase\n",
        "    df['text'] = df['text'].str.lower()\n",
        "\n",
        "    # Remove links (URLs)\n",
        "    df['text'] = df['text'].apply(lambda x: re.sub(r'http\\S+|www\\S+', '', x))\n",
        "\n",
        "    # Remove emojis (Unicode characters)\n",
        "    df['text'] = df['text'].apply(lambda x: re.sub(r'[^\\x00-\\x7F]+', '', x))\n",
        "\n",
        "    return df"
      ],
      "metadata": {
        "id": "EfXq4Y6_Et4c"
      },
      "execution_count": null,
      "outputs": []
    },
    {
      "cell_type": "code",
      "source": [
        "data = clean_text_data(subset_data)\n",
        "test = clean_text_data(test)"
      ],
      "metadata": {
        "id": "7xtm7ZUhE3Y6"
      },
      "execution_count": null,
      "outputs": []
    },
    {
      "cell_type": "code",
      "source": [
        "import tensorflow as tf\n",
        "\n",
        "VOCAB_SIZE = 3000\n",
        "\n",
        "encoder = tf.keras.layers.TextVectorization(\n",
        "    max_tokens=VOCAB_SIZE)\n",
        "encoder.adapt(subset_data.text.to_list())\n",
        "\n",
        "vectorized_text = encoder(subset_data.text).numpy()\n",
        "\n",
        "vectorized_text[:5]"
      ],
      "metadata": {
        "colab": {
          "base_uri": "https://localhost:8080/"
        },
        "id": "JRCGcoWRE7e_",
        "outputId": "8b94b4c4-0e38-4728-edcc-a9a49c90f028"
      },
      "execution_count": null,
      "outputs": [
        {
          "output_type": "execute_result",
          "data": {
            "text/plain": [
              "array([[  27,   12,   24,    3,   47,  266,   16,   72,  277,    1,  441,\n",
              "           0,    0,    0,    0,    0,    0,    0,    0,    0,    0,    0,\n",
              "           0,    0,    0,    0,    0,    0,    0,    0],\n",
              "       [   2,    1,  575,    8,   62,   10,    1,   30,   96,    1,    4,\n",
              "           3,  350,  105,   10,    1,    7,    1, 1805,    1,    0,    0,\n",
              "           0,    0,    0,    0,    0,    0,    0,    0],\n",
              "       [   1,    1,   94,    1,    2,    1,   65,   72,    1,    3,    1,\n",
              "           4,    1,    1,    0,    0,    0,    0,    0,    0,    0,    0,\n",
              "           0,    0,    0,    0,    0,    0,    0,    0],\n",
              "       [ 812,   83,    5,  160, 1637,  110,   23,  226,    8,  144,    5,\n",
              "         455,  229,   10,  554,   14,  426,   64,    3,  226,  308,    0,\n",
              "           0,    0,    0,    0,    0,    0,    0,    0],\n",
              "       [   4, 1357,    5,  298,  797,    6,    1,    1,    3,    1,  759,\n",
              "          58,   16,    1,    1,  126,    0,    0,    0,    0,    0,    0,\n",
              "           0,    0,    0,    0,    0,    0,    0,    0]])"
            ]
          },
          "metadata": {},
          "execution_count": 8
        }
      ]
    },
    {
      "cell_type": "code",
      "source": [
        "import tensorflow as tf\n",
        "from sklearn.metrics import f1_score\n",
        "\n",
        "# Logistic Regression Model\n",
        "model = tf.keras.Sequential([\n",
        "encoder,\n",
        "tf.keras.layers.Embedding(\n",
        "    input_dim=len(encoder.get_vocabulary()),\n",
        "    output_dim=1,\n",
        "    mask_zero=True),\n",
        "tf.keras.layers.GlobalAveragePooling1D(),\n",
        "tf.keras.layers.Dense(1, activation='sigmoid')\n",
        "])\n",
        "\n",
        "model.compile(optimizer='adam',\n",
        "              loss='binary_crossentropy',\n",
        "              metrics=['accuracy'])"
      ],
      "metadata": {
        "id": "UKt-ARTA2T9P"
      },
      "execution_count": null,
      "outputs": []
    },
    {
      "cell_type": "code",
      "source": [
        "model.summary()"
      ],
      "metadata": {
        "colab": {
          "base_uri": "https://localhost:8080/"
        },
        "id": "pd4PpTIX29ma",
        "outputId": "2e188ee3-bbc0-4300-d049-e3f400652f8b"
      },
      "execution_count": null,
      "outputs": [
        {
          "output_type": "stream",
          "name": "stdout",
          "text": [
            "Model: \"sequential_3\"\n",
            "_________________________________________________________________\n",
            " Layer (type)                Output Shape              Param #   \n",
            "=================================================================\n",
            " text_vectorization (TextVe  (None, None)              0         \n",
            " ctorization)                                                    \n",
            "                                                                 \n",
            " embedding_3 (Embedding)     (None, None, 1)           3000      \n",
            "                                                                 \n",
            " global_average_pooling1d_1  (None, 1)                 0         \n",
            "  (GlobalAveragePooling1D)                                       \n",
            "                                                                 \n",
            " dense_5 (Dense)             (None, 1)                 2         \n",
            "                                                                 \n",
            "=================================================================\n",
            "Total params: 3002 (11.73 KB)\n",
            "Trainable params: 3002 (11.73 KB)\n",
            "Non-trainable params: 0 (0.00 Byte)\n",
            "_________________________________________________________________\n"
          ]
        }
      ]
    },
    {
      "cell_type": "code",
      "source": [
        "def custom_learning_rate(epoch):\n",
        "    initial_lr = 0.00006\n",
        "    drop = 0.95\n",
        "    epochs_drop = 3\n",
        "\n",
        "    lr = initial_lr * (drop ** (epoch // epochs_drop))\n",
        "\n",
        "    return lr\n",
        "lr_scheduler = LearningRateScheduler(custom_learning_rate)\n",
        "\n",
        "early_stopping = EarlyStopping(monitor='val_loss', patience=8, restore_best_weights=True)"
      ],
      "metadata": {
        "id": "E7-6-3Fo3Vh5"
      },
      "execution_count": null,
      "outputs": []
    },
    {
      "cell_type": "code",
      "source": [
        "history = model.fit(np.array(data.text),\n",
        "                    data.target,\n",
        "                    epochs=25,\n",
        "                    validation_split=0.2,\n",
        "                    callbacks=[early_stopping, lr_scheduler],\n",
        "                    verbose=1)"
      ],
      "metadata": {
        "colab": {
          "base_uri": "https://localhost:8080/"
        },
        "id": "lV8CSI7m3eDL",
        "outputId": "90d1413d-2d7b-4ddd-f078-21dfeaeee9c1"
      },
      "execution_count": null,
      "outputs": [
        {
          "output_type": "stream",
          "name": "stdout",
          "text": [
            "Epoch 1/25\n",
            "100/100 [==============================] - 1s 5ms/step - loss: 0.6921 - accuracy: 0.5475 - val_loss: 0.6912 - val_accuracy: 0.5788 - lr: 6.0000e-05\n",
            "Epoch 2/25\n",
            "100/100 [==============================] - 0s 3ms/step - loss: 0.6915 - accuracy: 0.5678 - val_loss: 0.6906 - val_accuracy: 0.5863 - lr: 6.0000e-05\n",
            "Epoch 3/25\n",
            "100/100 [==============================] - 0s 3ms/step - loss: 0.6909 - accuracy: 0.5738 - val_loss: 0.6899 - val_accuracy: 0.5888 - lr: 6.0000e-05\n",
            "Epoch 4/25\n",
            "100/100 [==============================] - 0s 4ms/step - loss: 0.6903 - accuracy: 0.5738 - val_loss: 0.6892 - val_accuracy: 0.5900 - lr: 5.7000e-05\n",
            "Epoch 5/25\n",
            "100/100 [==============================] - 0s 4ms/step - loss: 0.6897 - accuracy: 0.5734 - val_loss: 0.6886 - val_accuracy: 0.5913 - lr: 5.7000e-05\n",
            "Epoch 6/25\n",
            "100/100 [==============================] - 0s 4ms/step - loss: 0.6891 - accuracy: 0.5738 - val_loss: 0.6879 - val_accuracy: 0.5913 - lr: 5.7000e-05\n",
            "Epoch 7/25\n",
            "100/100 [==============================] - 0s 4ms/step - loss: 0.6886 - accuracy: 0.5731 - val_loss: 0.6873 - val_accuracy: 0.5925 - lr: 5.4150e-05\n",
            "Epoch 8/25\n",
            "100/100 [==============================] - 0s 4ms/step - loss: 0.6880 - accuracy: 0.5731 - val_loss: 0.6867 - val_accuracy: 0.5925 - lr: 5.4150e-05\n",
            "Epoch 9/25\n",
            "100/100 [==============================] - 1s 8ms/step - loss: 0.6875 - accuracy: 0.5725 - val_loss: 0.6861 - val_accuracy: 0.5913 - lr: 5.4150e-05\n",
            "Epoch 10/25\n",
            "100/100 [==============================] - 0s 4ms/step - loss: 0.6870 - accuracy: 0.5725 - val_loss: 0.6856 - val_accuracy: 0.5925 - lr: 5.1443e-05\n",
            "Epoch 11/25\n",
            "100/100 [==============================] - 0s 5ms/step - loss: 0.6865 - accuracy: 0.5728 - val_loss: 0.6850 - val_accuracy: 0.5925 - lr: 5.1443e-05\n",
            "Epoch 12/25\n",
            "100/100 [==============================] - 0s 4ms/step - loss: 0.6860 - accuracy: 0.5738 - val_loss: 0.6845 - val_accuracy: 0.5925 - lr: 5.1443e-05\n",
            "Epoch 13/25\n",
            "100/100 [==============================] - 0s 3ms/step - loss: 0.6855 - accuracy: 0.5734 - val_loss: 0.6840 - val_accuracy: 0.5925 - lr: 4.8870e-05\n",
            "Epoch 14/25\n",
            "100/100 [==============================] - 0s 3ms/step - loss: 0.6851 - accuracy: 0.5731 - val_loss: 0.6834 - val_accuracy: 0.5925 - lr: 4.8870e-05\n",
            "Epoch 15/25\n",
            "100/100 [==============================] - 0s 3ms/step - loss: 0.6846 - accuracy: 0.5731 - val_loss: 0.6829 - val_accuracy: 0.5913 - lr: 4.8870e-05\n",
            "Epoch 16/25\n",
            "100/100 [==============================] - 0s 3ms/step - loss: 0.6842 - accuracy: 0.5731 - val_loss: 0.6824 - val_accuracy: 0.5913 - lr: 4.6427e-05\n",
            "Epoch 17/25\n",
            "100/100 [==============================] - 0s 3ms/step - loss: 0.6837 - accuracy: 0.5731 - val_loss: 0.6820 - val_accuracy: 0.5913 - lr: 4.6427e-05\n",
            "Epoch 18/25\n",
            "100/100 [==============================] - 0s 3ms/step - loss: 0.6833 - accuracy: 0.5731 - val_loss: 0.6815 - val_accuracy: 0.5913 - lr: 4.6427e-05\n",
            "Epoch 19/25\n",
            "100/100 [==============================] - 0s 3ms/step - loss: 0.6829 - accuracy: 0.5731 - val_loss: 0.6810 - val_accuracy: 0.5913 - lr: 4.4106e-05\n",
            "Epoch 20/25\n",
            "100/100 [==============================] - 0s 3ms/step - loss: 0.6825 - accuracy: 0.5731 - val_loss: 0.6806 - val_accuracy: 0.5913 - lr: 4.4106e-05\n",
            "Epoch 21/25\n",
            "100/100 [==============================] - 0s 3ms/step - loss: 0.6821 - accuracy: 0.5731 - val_loss: 0.6801 - val_accuracy: 0.5913 - lr: 4.4106e-05\n",
            "Epoch 22/25\n",
            "100/100 [==============================] - 0s 3ms/step - loss: 0.6817 - accuracy: 0.5731 - val_loss: 0.6797 - val_accuracy: 0.5913 - lr: 4.1900e-05\n",
            "Epoch 23/25\n",
            "100/100 [==============================] - 0s 3ms/step - loss: 0.6813 - accuracy: 0.5731 - val_loss: 0.6793 - val_accuracy: 0.5913 - lr: 4.1900e-05\n",
            "Epoch 24/25\n",
            "100/100 [==============================] - 0s 3ms/step - loss: 0.6809 - accuracy: 0.5731 - val_loss: 0.6789 - val_accuracy: 0.5913 - lr: 4.1900e-05\n",
            "Epoch 25/25\n",
            "100/100 [==============================] - 0s 3ms/step - loss: 0.6806 - accuracy: 0.5731 - val_loss: 0.6785 - val_accuracy: 0.5913 - lr: 3.9805e-05\n"
          ]
        }
      ]
    },
    {
      "cell_type": "code",
      "source": [
        "from tensorflow.keras.callbacks import EarlyStopping, LearningRateScheduler\n",
        "from sklearn.metrics import f1_score\n",
        "\n",
        "model = tf.keras.Sequential([\n",
        "    encoder,\n",
        "    tf.keras.layers.Embedding(\n",
        "        input_dim=len(encoder.get_vocabulary()),\n",
        "        output_dim=64,\n",
        "        mask_zero=True),\n",
        "    tf.keras.layers.Bidirectional(tf.keras.layers.LSTM(128)),\n",
        "    tf.keras.layers.Dense(1024, activation='relu'),\n",
        "    tf.keras.layers.Dense(1, activation='sigmoid')\n",
        "])\n",
        "\n",
        "model.compile(optimizer='adam',\n",
        "              loss='binary_crossentropy',\n",
        "              metrics=['accuracy'])"
      ],
      "metadata": {
        "id": "nBeRVa1RFBUc"
      },
      "execution_count": null,
      "outputs": []
    },
    {
      "cell_type": "code",
      "source": [
        "model.summary()"
      ],
      "metadata": {
        "colab": {
          "base_uri": "https://localhost:8080/"
        },
        "id": "OuYhLPDdFjlX",
        "outputId": "baa51428-2980-447a-e565-5317db29d600"
      },
      "execution_count": null,
      "outputs": [
        {
          "output_type": "stream",
          "name": "stdout",
          "text": [
            "Model: \"sequential_4\"\n",
            "_________________________________________________________________\n",
            " Layer (type)                Output Shape              Param #   \n",
            "=================================================================\n",
            " text_vectorization (TextVe  (None, None)              0         \n",
            " ctorization)                                                    \n",
            "                                                                 \n",
            " embedding_4 (Embedding)     (None, None, 64)          192000    \n",
            "                                                                 \n",
            " bidirectional_2 (Bidirecti  (None, 256)               197632    \n",
            " onal)                                                           \n",
            "                                                                 \n",
            " dense_6 (Dense)             (None, 1024)              263168    \n",
            "                                                                 \n",
            " dense_7 (Dense)             (None, 1)                 1025      \n",
            "                                                                 \n",
            "=================================================================\n",
            "Total params: 653825 (2.49 MB)\n",
            "Trainable params: 653825 (2.49 MB)\n",
            "Non-trainable params: 0 (0.00 Byte)\n",
            "_________________________________________________________________\n"
          ]
        }
      ]
    },
    {
      "cell_type": "code",
      "source": [
        "def custom_learning_rate(epoch):\n",
        "    initial_lr = 0.00006\n",
        "    drop = 0.95\n",
        "    epochs_drop = 3\n",
        "\n",
        "    lr = initial_lr * (drop ** (epoch // epochs_drop))\n",
        "\n",
        "    return lr\n",
        "lr_scheduler = LearningRateScheduler(custom_learning_rate)\n",
        "\n",
        "early_stopping = EarlyStopping(monitor='val_loss', patience=8, restore_best_weights=True)"
      ],
      "metadata": {
        "id": "r8AVdtrOFpNo"
      },
      "execution_count": null,
      "outputs": []
    },
    {
      "cell_type": "code",
      "source": [
        "history = model.fit(np.array(data.text),\n",
        "                    data.target,\n",
        "                    epochs=25,\n",
        "                    validation_split=0.2,\n",
        "                    callbacks=[early_stopping, lr_scheduler],\n",
        "                    verbose=1)"
      ],
      "metadata": {
        "colab": {
          "base_uri": "https://localhost:8080/"
        },
        "id": "nK3qktOQF1i9",
        "outputId": "c66993bb-d569-4a29-9d94-e519ff803ea9"
      },
      "execution_count": null,
      "outputs": [
        {
          "output_type": "stream",
          "name": "stdout",
          "text": [
            "Epoch 1/25\n",
            "100/100 [==============================] - 22s 133ms/step - loss: 0.6875 - accuracy: 0.5734 - val_loss: 0.6746 - val_accuracy: 0.5913 - lr: 6.0000e-05\n",
            "Epoch 2/25\n",
            "100/100 [==============================] - 8s 82ms/step - loss: 0.6708 - accuracy: 0.5778 - val_loss: 0.6460 - val_accuracy: 0.6612 - lr: 6.0000e-05\n",
            "Epoch 3/25\n",
            "100/100 [==============================] - 10s 101ms/step - loss: 0.6112 - accuracy: 0.7009 - val_loss: 0.5507 - val_accuracy: 0.7575 - lr: 6.0000e-05\n",
            "Epoch 4/25\n",
            "100/100 [==============================] - 10s 101ms/step - loss: 0.4807 - accuracy: 0.7912 - val_loss: 0.4766 - val_accuracy: 0.7850 - lr: 5.7000e-05\n",
            "Epoch 5/25\n",
            "100/100 [==============================] - 10s 101ms/step - loss: 0.4149 - accuracy: 0.8294 - val_loss: 0.4542 - val_accuracy: 0.7937 - lr: 5.7000e-05\n",
            "Epoch 6/25\n",
            "100/100 [==============================] - 11s 114ms/step - loss: 0.3646 - accuracy: 0.8550 - val_loss: 0.4602 - val_accuracy: 0.7975 - lr: 5.7000e-05\n",
            "Epoch 7/25\n",
            "100/100 [==============================] - 10s 101ms/step - loss: 0.3283 - accuracy: 0.8697 - val_loss: 0.4564 - val_accuracy: 0.8087 - lr: 5.4150e-05\n",
            "Epoch 8/25\n",
            "100/100 [==============================] - 11s 107ms/step - loss: 0.2942 - accuracy: 0.8878 - val_loss: 0.4843 - val_accuracy: 0.8000 - lr: 5.4150e-05\n",
            "Epoch 9/25\n",
            "100/100 [==============================] - 8s 82ms/step - loss: 0.2636 - accuracy: 0.9013 - val_loss: 0.5014 - val_accuracy: 0.8062 - lr: 5.4150e-05\n",
            "Epoch 10/25\n",
            "100/100 [==============================] - 11s 107ms/step - loss: 0.2337 - accuracy: 0.9147 - val_loss: 0.5336 - val_accuracy: 0.8050 - lr: 5.1443e-05\n",
            "Epoch 11/25\n",
            "100/100 [==============================] - 10s 101ms/step - loss: 0.2099 - accuracy: 0.9197 - val_loss: 0.5789 - val_accuracy: 0.7975 - lr: 5.1443e-05\n",
            "Epoch 12/25\n",
            "100/100 [==============================] - 8s 83ms/step - loss: 0.1874 - accuracy: 0.9306 - val_loss: 0.6199 - val_accuracy: 0.8012 - lr: 5.1443e-05\n",
            "Epoch 13/25\n",
            "100/100 [==============================] - 10s 102ms/step - loss: 0.1712 - accuracy: 0.9375 - val_loss: 0.6613 - val_accuracy: 0.7912 - lr: 4.8870e-05\n"
          ]
        }
      ]
    },
    {
      "cell_type": "code",
      "source": [
        "plt.figure(figsize=(12, 6))\n",
        "plt.subplot(1, 2, 1)\n",
        "plt.plot(history.history['loss'], label='Training Loss')\n",
        "plt.plot(history.history['val_loss'], label='Validation Loss')\n",
        "plt.title('Training and Validation Loss')\n",
        "plt.xlabel('Epochs')\n",
        "plt.ylabel('Loss')\n",
        "plt.legend()\n",
        "\n",
        "# Plot Accuracy\n",
        "plt.subplot(1, 2, 2)\n",
        "plt.plot(history.history['accuracy'], label='Training accuracy')\n",
        "plt.plot(history.history['val_accuracy'], label='Validation accuracy')\n",
        "plt.title('Training and Validation accuracy')\n",
        "plt.xlabel('Epochs')\n",
        "plt.ylabel('Accuracy')\n",
        "plt.legend()\n",
        "\n",
        "plt.tight_layout()\n",
        "plt.show()"
      ],
      "metadata": {
        "colab": {
          "base_uri": "https://localhost:8080/",
          "height": 569
        },
        "id": "rNLZsN58F5rh",
        "outputId": "c799ce73-69ba-47ff-b719-4249fa9f6b64"
      },
      "execution_count": null,
      "outputs": [
        {
          "output_type": "display_data",
          "data": {
            "text/plain": [
              "<Figure size 1200x600 with 2 Axes>"
            ],
            "image/png": "[encoded data removed]"
          },
          "metadata": {}
        }
      ]
    },
    {
      "cell_type": "code",
      "source": [
        "x = range(50)\n",
        "n = len(history.history['lr'])\n",
        "lrs_0 = [custom_learning_rate(i) for i in x[:n]]\n",
        "lrs_1 = [custom_learning_rate(i) for i in x[n-1:]]\n",
        "plt.plot(x[:n], lrs_0, color='blue')\n",
        "plt.plot(x[n-1:], lrs_1, 'r--')\n",
        "plt.ylim(0, max(history.history['lr'])*1.05)\n",
        "plt.title('Learning rate')\n",
        "plt.xlabel('Epoch')\n",
        "plt.ylabel('Learning Rate')\n",
        "plt.show()"
      ],
      "metadata": {
        "colab": {
          "base_uri": "https://localhost:8080/",
          "height": 472
        },
        "id": "V8FNweCNGG8v",
        "outputId": "afafe7cf-e549-4453-fd80-36691544b544"
      },
      "execution_count": null,
      "outputs": [
        {
          "output_type": "display_data",
          "data": {
            "text/plain": [
              "<Figure size 640x480 with 1 Axes>"
            ],
            "image/png": "[encoded data removed]"
          },
          "metadata": {}
        }
      ]
    },
    {
      "cell_type": "code",
      "source": [
        "predictions = model.predict(np.array(test.text.to_list()))\n",
        "predictions = (predictions > 0.5).astype('int')\n",
        "submission = pd.DataFrame({'id':test.id.to_list(), 'target':predictions.flatten()})\n",
        "submission.to_csv('submission.csv', index=False)"
      ],
      "metadata": {
        "colab": {
          "base_uri": "https://localhost:8080/"
        },
        "id": "AZ5ddOhbHAOQ",
        "outputId": "49feee4b-d294-4b21-8cf4-2c1fdecc4dc1"
      },
      "execution_count": null,
      "outputs": [
        {
          "output_type": "stream",
          "name": "stdout",
          "text": [
            "102/102 [==============================] - 5s 23ms/step\n"
          ]
        }
      ]
    },
    {
      "cell_type": "code",
      "source": [],
      "metadata": {
        "id": "Hk1kvhT2HDOO"
      },
      "execution_count": null,
      "outputs": []
    }
  ]
}